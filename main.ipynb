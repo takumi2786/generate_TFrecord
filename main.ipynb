{
 "metadata": {
  "language_info": {
   "codemirror_mode": {
    "name": "ipython",
    "version": 3
   },
   "file_extension": ".py",
   "mimetype": "text/x-python",
   "name": "python",
   "nbconvert_exporter": "python",
   "pygments_lexer": "ipython3",
   "version": "3.6.9-final"
  },
  "orig_nbformat": 2,
  "kernelspec": {
   "name": "python3",
   "display_name": "Python 3"
  }
 },
 "nbformat": 4,
 "nbformat_minor": 2,
 "cells": [
  {
   "cell_type": "code",
   "execution_count": null,
   "metadata": {},
   "outputs": [],
   "source": [
    "# 様々な書式のデータからtfrecordを作成するスクリプトを作る．\n",
    "# ゆくゆくはGITに公開するぞう．\n"
   ]
  },
  {
   "source": [],
   "cell_type": "markdown",
   "metadata": {}
  },
  {
   "cell_type": "code",
   "execution_count": 1,
   "metadata": {},
   "outputs": [
    {
     "output_type": "stream",
     "name": "stdout",
     "text": [
      "/Users/takumi/Dropbox/Programing/DeepLearning/TFPractice/practice_ODAPI\n"
     ]
    }
   ],
   "source": [
    "BasePath = \"/Users/takumi/Dropbox/Programing/DeepLearning/TFPractice/practice_ODAPI\"\n",
    "%cd $BasePath"
   ]
  },
  {
   "source": [
    "### 1. Wider Face(.txtの独自の形式)"
   ],
   "cell_type": "markdown",
   "metadata": {}
  },
  {
   "cell_type": "code",
   "execution_count": null,
   "metadata": {
    "tags": [
     "outputPrepend"
    ]
   },
   "outputs": [],
   "source": [
    "import os\n",
    "# データセットのダウンロード\n",
    "# Wider Face\n",
    "dl_flg=False\n",
    "if dl_flg==True:\n",
    "    !wget https://data.deepai.org/widerface.zip -O ./datasets\n",
    "    # 解凍\n",
    "    !unzip ./datasets/wface_s.zip -d ./datasets/"
   ]
  },
  {
   "cell_type": "code",
   "execution_count": 5,
   "metadata": {},
   "outputs": [
    {
     "output_type": "stream",
     "name": "stdout",
     "text": [
      "/Users/takumi/Dropbox/Programing/DeepLearning/TFPractice/practice_ODAPI\n/Users/takumi/Dropbox/Programing/DeepLearning/TFPractice/practice_ODAPI/generate_TFrecord\n"
     ]
    }
   ],
   "source": [
    "# レポジトリの入手\n",
    "clone_flg=False\n",
    "%cd $BasePath\n",
    "%cd generate_TFrecord/\n",
    "if clone_flg==True:\n",
    "    !git clone https://github.com/iitzco/widerface-to-tfrecord.git"
   ]
  },
  {
   "cell_type": "code",
   "execution_count": 6,
   "metadata": {},
   "outputs": [
    {
     "output_type": "stream",
     "name": "stdout",
     "text": [
      "/Users/takumi/Dropbox/Programing/DeepLearning/TFPractice/practice_ODAPI\n"
     ]
    }
   ],
   "source": [
    "%cd $BasePath\n",
    "# $TRAIN_WIDER_PATH/images/\n"
   ]
  },
  {
   "source": [
    "### 2. Pascal VOC形式\n",
    "ODAPI初期装備の物は，VascalVOCに特化しているため，一般データセットで利用するには，<br>\n",
    "カスタマイズする必要がある．[1]で公開されているスクリプトを採用.<br>\n",
    "ただし，tf1用に作られているので,pascal_to_tfrecord.py冒頭を以下のように修正\n",
    "```python\n",
    "# import tensorflow as tf\n",
    "import tensorflow.compat.v1 as tf\n",
    "```\n",
    "\n",
    "\n",
    "参考：\n",
    "* [1] https://gist.github.com/christophclarke/da416ac7fa13ed1035ad77e2af51e589\n",
    "* [2] https://qiita.com/titanium0715/items/7b52d817be2b97c14dab"
   ],
   "cell_type": "markdown",
   "metadata": {}
  },
  {
   "cell_type": "code",
   "execution_count": 12,
   "metadata": {},
   "outputs": [
    {
     "output_type": "stream",
     "name": "stdout",
     "text": [
      "/Users/takumi/Dropbox/Programing/DeepLearning/TFPractice/practice_ODAPI\n",
      "./datasets/wface_s/label_map.pbtxt is created\n"
     ]
    }
   ],
   "source": [
    "# ラベルマップの作成\n",
    "%cd $BasePath\n",
    "!python ./generate_TFrecord/pascalVOCtoTFrecord/pascal_to_label_map.py \\\n",
    "    --annotations_dir=./datasets/wface_s/annotations/test/ \\\n",
    "    --label_map_path=./datasets/wface_s/label_map.pbtxt\n",
    "\n"
   ]
  },
  {
   "cell_type": "code",
   "execution_count": 5,
   "metadata": {},
   "outputs": [
    {
     "output_type": "stream",
     "name": "stdout",
     "text": [
      "/Users/takumi/Dropbox/Programing/DeepLearning/TFPractice/practice_ODAPI\n",
      "I1206 21:22:32.463984 4635430336 pascal_to_tfrecord.py:144] Annotations contained in: ./datasets/wface_s/annotations/test/\n",
      "I1206 21:22:32.464226 4635430336 pascal_to_tfrecord.py:145] Images contained in: ./datasets/wface_s/images/test/\n",
      "I1206 21:22:32.468391 4635430336 pascal_to_tfrecord.py:151] On image 0 of 2917\n",
      "I1206 21:22:33.064090 4635430336 pascal_to_tfrecord.py:151] On image 100 of 2917\n",
      "I1206 21:22:33.662642 4635430336 pascal_to_tfrecord.py:151] On image 200 of 2917\n",
      "I1206 21:22:34.552524 4635430336 pascal_to_tfrecord.py:151] On image 300 of 2917\n",
      "I1206 21:22:35.359151 4635430336 pascal_to_tfrecord.py:151] On image 400 of 2917\n",
      "I1206 21:22:35.941258 4635430336 pascal_to_tfrecord.py:151] On image 500 of 2917\n",
      "I1206 21:22:36.461980 4635430336 pascal_to_tfrecord.py:151] On image 600 of 2917\n",
      "I1206 21:22:36.986099 4635430336 pascal_to_tfrecord.py:151] On image 700 of 2917\n",
      "I1206 21:22:37.647964 4635430336 pascal_to_tfrecord.py:151] On image 800 of 2917\n",
      "I1206 21:22:38.526530 4635430336 pascal_to_tfrecord.py:151] On image 900 of 2917\n",
      "I1206 21:22:39.124334 4635430336 pascal_to_tfrecord.py:151] On image 1000 of 2917\n",
      "I1206 21:22:39.998465 4635430336 pascal_to_tfrecord.py:151] On image 1100 of 2917\n",
      "I1206 21:22:40.627523 4635430336 pascal_to_tfrecord.py:151] On image 1200 of 2917\n",
      "I1206 21:22:41.141290 4635430336 pascal_to_tfrecord.py:151] On image 1300 of 2917\n",
      "I1206 21:22:41.730365 4635430336 pascal_to_tfrecord.py:151] On image 1400 of 2917\n",
      "I1206 21:22:42.383388 4635430336 pascal_to_tfrecord.py:151] On image 1500 of 2917\n",
      "I1206 21:22:42.983519 4635430336 pascal_to_tfrecord.py:151] On image 1600 of 2917\n",
      "I1206 21:22:43.541649 4635430336 pascal_to_tfrecord.py:151] On image 1700 of 2917\n",
      "I1206 21:22:44.056711 4635430336 pascal_to_tfrecord.py:151] On image 1800 of 2917\n",
      "I1206 21:22:44.650212 4635430336 pascal_to_tfrecord.py:151] On image 1900 of 2917\n",
      "I1206 21:22:45.258427 4635430336 pascal_to_tfrecord.py:151] On image 2000 of 2917\n",
      "I1206 21:22:46.051913 4635430336 pascal_to_tfrecord.py:151] On image 2100 of 2917\n",
      "I1206 21:22:46.585170 4635430336 pascal_to_tfrecord.py:151] On image 2200 of 2917\n",
      "I1206 21:22:47.081568 4635430336 pascal_to_tfrecord.py:151] On image 2300 of 2917\n",
      "I1206 21:22:47.621413 4635430336 pascal_to_tfrecord.py:151] On image 2400 of 2917\n",
      "I1206 21:22:48.106921 4635430336 pascal_to_tfrecord.py:151] On image 2500 of 2917\n",
      "I1206 21:22:48.580678 4635430336 pascal_to_tfrecord.py:151] On image 2600 of 2917\n",
      "I1206 21:22:49.061383 4635430336 pascal_to_tfrecord.py:151] On image 2700 of 2917\n",
      "I1206 21:22:49.612201 4635430336 pascal_to_tfrecord.py:151] On image 2800 of 2917\n",
      "I1206 21:22:50.491408 4635430336 pascal_to_tfrecord.py:151] On image 2900 of 2917\n",
      "I1206 21:22:50.660331 4635430336 pascal_to_tfrecord.py:161] Writing Complete.\n",
      "I1206 21:22:50.673992 4635430336 pascal_to_tfrecord.py:164] Running TFRecord Check Sequence...\n",
      "WARNING:tensorflow:From ./generate_TFrecord/pascalVOCtoTFrecord/pascal_to_tfrecord.py:167: tf_record_iterator (from tensorflow.python.lib.io.tf_record) is deprecated and will be removed in a future version.\n",
      "Instructions for updating:\n",
      "Use eager execution and: \n",
      "`tf.data.TFRecordDataset(path)`\n",
      "W1206 21:22:50.686022 4635430336 deprecation.py:323] From ./generate_TFrecord/pascalVOCtoTFrecord/pascal_to_tfrecord.py:167: tf_record_iterator (from tensorflow.python.lib.io.tf_record) is deprecated and will be removed in a future version.\n",
      "Instructions for updating:\n",
      "Use eager execution and: \n",
      "`tf.data.TFRecordDataset(path)`\n",
      "I1206 21:22:52.244672 4635430336 pascal_to_tfrecord.py:170] Records Found: 2917\n",
      "I1206 21:22:52.244898 4635430336 pascal_to_tfrecord.py:171] Check Complete.\n"
     ]
    }
   ],
   "source": [
    "# TFレコードの作成\n",
    "%cd $BasePath\n",
    "!python ./generate_TFrecord/pascalVOCtoTFrecord/pascal_to_tfrecord.py \\\n",
    "        --annotations_dir=./datasets/wface_s/annotations/test/ \\\n",
    "        --images_dir=./datasets/wface_s/images/test/ \\\n",
    "        --output_path=./datasets/wface_s.record \\\n",
    "        --label_map_path=./datasets/wface_s/label_map.pbtxt"
   ]
  },
  {
   "cell_type": "code",
   "execution_count": null,
   "metadata": {},
   "outputs": [],
   "source": []
  },
  {
   "cell_type": "code",
   "execution_count": 2,
   "metadata": {},
   "outputs": [
    {
     "output_type": "stream",
     "name": "stdout",
     "text": [
      "\u001b[34mbackup\u001b[m\u001b[m     main.ipynb\n"
     ]
    }
   ],
   "source": [
    "# # TFレコードの作成\n",
    "# %cd $BasePath\n",
    "# %cd models/research/\n",
    "# !ls\n",
    "# # python object_detection/dataset_tools/create_pascal_tf_record.py \\\n",
    "# #     --label_map_path=object_detection/data/pascal_label_map.pbtxt \\\n",
    "# #     --data_dir=VOCdevkit --year=VOC2012 --set=train \\\n",
    "# #     --output_path=pascal_train.record\n",
    "\n",
    "\n",
    "\n"
   ]
  },
  {
   "cell_type": "code",
   "execution_count": null,
   "metadata": {},
   "outputs": [],
   "source": []
  }
 ]
}